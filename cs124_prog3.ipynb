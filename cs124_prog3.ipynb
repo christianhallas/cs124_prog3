{
 "cells": [
  {
   "cell_type": "code",
   "execution_count": 9,
   "metadata": {
    "collapsed": true
   },
   "outputs": [],
   "source": [
    "# CS124 Programming Assignment 3\n",
    "# Christian Hallas\n",
    "# Spring 2016"
   ]
  },
  {
   "cell_type": "code",
   "execution_count": 10,
   "metadata": {
    "collapsed": true
   },
   "outputs": [],
   "source": [
    "# Import packages\n",
    "import heapq\n",
    "import random\n",
    "import math\n",
    "import time"
   ]
  },
  {
   "cell_type": "code",
   "execution_count": 11,
   "metadata": {
    "collapsed": true
   },
   "outputs": [],
   "source": [
    "# Constants defined\n",
    "NO_INTS = 100\n",
    "MIN_INT = 1\n",
    "MAX_INT = 10 ** 12\n",
    "IND_LST = range(NO_INTS)"
   ]
  },
  {
   "cell_type": "code",
   "execution_count": 12,
   "metadata": {
    "collapsed": true
   },
   "outputs": [],
   "source": [
    "# Generate a list of length 'size' of integers in range [0,10^12]\n",
    "def random_ints(size, lower=MIN_INT, upper=MAX_INT):\n",
    "    return [random.randrange(lower, upper+1) for i in range(size)]"
   ]
  },
  {
   "cell_type": "code",
   "execution_count": 13,
   "metadata": {
    "collapsed": true
   },
   "outputs": [],
   "source": [
    "# Implementation of the Karmarkar-Karp algorithm using a heap\n",
    "def karmarkarkarp(A=[]):\n",
    "    if not A:\n",
    "        A = random_ints(NO_INTS)\n",
    "    A_neg = [-x for x in A]\n",
    "    heapq.heapify(A_neg)\n",
    "    for _ in range(NO_INTS-1):\n",
    "        max_int1 = heapq.heappop(A_neg)\n",
    "        max_int2 = heapq.heappop(A_neg)\n",
    "        heapq.heappush(A_neg, max_int1-max_int2)\n",
    "    return -A_neg[0]"
   ]
  },
  {
   "cell_type": "code",
   "execution_count": 14,
   "metadata": {
    "collapsed": false
   },
   "outputs": [],
   "source": [
    "# Generate random standard representation solution\n",
    "def rand_std():\n",
    "    rand_lst = random_ints(NO_INTS, lower=0, upper=1)\n",
    "    return [x if x == 1 else -1 for x in rand_lst]"
   ]
  },
  {
   "cell_type": "code",
   "execution_count": 15,
   "metadata": {
    "collapsed": false
   },
   "outputs": [],
   "source": [
    "# Generate random prepartition representation solution\n",
    "def rand_pre():\n",
    "    return random_ints(NO_INTS, lower=0, upper=NO_INTS-1)"
   ]
  },
  {
   "cell_type": "code",
   "execution_count": 16,
   "metadata": {
    "collapsed": false
   },
   "outputs": [],
   "source": [
    "# Generate A' representation from prepartition representation P and list of integers A\n",
    "def A_prime_repr(A, P):\n",
    "    A_prime = [0] * NO_INTS\n",
    "    for i in range(NO_INTS):\n",
    "        A_prime[P[i]] += A_prime[P[i]] + A[i]\n",
    "    return A_prime"
   ]
  },
  {
   "cell_type": "code",
   "execution_count": 17,
   "metadata": {
    "collapsed": false
   },
   "outputs": [],
   "source": [
    "# Residue from standard representation solution P\n",
    "def res_std(A, P):\n",
    "    return abs(sum([x*y for x,y in zip(A,P)]))"
   ]
  },
  {
   "cell_type": "code",
   "execution_count": 18,
   "metadata": {
    "collapsed": true
   },
   "outputs": [],
   "source": [
    "# Residue from prepartition representation solution P\n",
    "def res_pre(A, P):\n",
    "    return karmarkarkarp(A=A_prime_repr(A,P))"
   ]
  },
  {
   "cell_type": "code",
   "execution_count": 19,
   "metadata": {
    "collapsed": true
   },
   "outputs": [],
   "source": [
    "# Move to random neighbor from standard solution P\n",
    "def move_std(P):\n",
    "    P_p = P[:]\n",
    "    inds = random.sample(IND_LST, 2)\n",
    "    P_p[inds[0]] *= -1\n",
    "    if random.randint(0,1):\n",
    "        P_p[inds[1]] *= -1\n",
    "    return P_p"
   ]
  },
  {
   "cell_type": "code",
   "execution_count": 20,
   "metadata": {
    "collapsed": false
   },
   "outputs": [],
   "source": [
    "# Move to random neighbor from prepartition solution P\n",
    "def move_pre(P):\n",
    "    P_p = P[:]\n",
    "    inds = [0,0]\n",
    "    while inds[0] == inds[1]:\n",
    "        inds = random.sample(IND_LST, 2)\n",
    "    P_p[inds[0]] = inds[1]\n",
    "    return P_p"
   ]
  },
  {
   "cell_type": "code",
   "execution_count": 21,
   "metadata": {
    "collapsed": false
   },
   "outputs": [],
   "source": [
    "# Implementation of the repeated random algorithm\n",
    "def repeat_rand(iterations, reps, A=[]):\n",
    "    if not A:\n",
    "        A = random_ints(NO_INTS)\n",
    "    if reps == \"std\":\n",
    "        res = res_std\n",
    "        rand = rand_std\n",
    "    if reps == \"pre\":\n",
    "        res = res_pre\n",
    "        rand = rand_pre\n",
    "    P = rand()\n",
    "    S = res(A, P)\n",
    "    for _ in range(iterations):\n",
    "        P = rand()\n",
    "        S_prime = res(A, P)\n",
    "        if S > S_prime:\n",
    "            S = S_prime\n",
    "    return S"
   ]
  },
  {
   "cell_type": "code",
   "execution_count": 22,
   "metadata": {
    "collapsed": false
   },
   "outputs": [],
   "source": [
    "# Implementation of the hill climbing algorithm\n",
    "def hill_climb(iterations, reps, A=[]):\n",
    "    if not A:\n",
    "        A = random_ints(NO_INTS)\n",
    "    if reps == \"std\":\n",
    "        res = res_std\n",
    "        rand = rand_std\n",
    "        move = move_std\n",
    "    if reps == \"pre\":\n",
    "        res = res_pre\n",
    "        rand = rand_pre\n",
    "        move = move_pre\n",
    "    P = rand()\n",
    "    S = res(A, P)\n",
    "    for _ in range(iterations):\n",
    "        P_p = move(P)\n",
    "        S_p = res(A, P_p)\n",
    "        if S > S_p:\n",
    "            S = S_p\n",
    "            P = P_p\n",
    "    return S"
   ]
  },
  {
   "cell_type": "code",
   "execution_count": 23,
   "metadata": {
    "collapsed": true
   },
   "outputs": [],
   "source": [
    "# Define cooling schdule\n",
    "def T(i):\n",
    "    return (10 ** 10) * (0.8 ** math.floor(float(i)/300))"
   ]
  },
  {
   "cell_type": "code",
   "execution_count": 24,
   "metadata": {
    "collapsed": false
   },
   "outputs": [],
   "source": [
    "# Implementation of the simulated annealing\n",
    "def sim_ann(iterations, reps, A=[]):\n",
    "    if not A:\n",
    "        A = random_ints(NO_INTS)\n",
    "    if reps == \"std\":\n",
    "        res = res_std\n",
    "        rand = rand_std\n",
    "        move = move_std\n",
    "    if reps == \"pre\":\n",
    "        res = res_pre\n",
    "        rand = rand_pre\n",
    "        move = move_pre\n",
    "    P = rand()\n",
    "    S = res(A, P)\n",
    "    S_pp = S\n",
    "    P_pp = P\n",
    "    for i in range(iterations):\n",
    "        P_p = move(P)\n",
    "        S_p = res(A, P_p)\n",
    "        if S > S_p:\n",
    "            S = S_p\n",
    "            P = P_p\n",
    "        else:\n",
    "            prob = math.exp(-float(res(A, P_p) - res(A, P)) / T(i+1))\n",
    "            if random.uniform(0,1) <= prob:\n",
    "                S = S_p\n",
    "                P = P_p\n",
    "        if S_pp > S:\n",
    "            S_pp = S\n",
    "            P_pp = P\n",
    "    return S_pp"
   ]
  },
  {
   "cell_type": "code",
   "execution_count": 25,
   "metadata": {
    "collapsed": false
   },
   "outputs": [
    {
     "name": "stdout",
     "output_type": "stream",
     "text": [
      "Repeat std: 317577203\n",
      "Repeat pre: 137\n",
      "Hill std: 1684737909\n",
      "Hill pre: 2138\n",
      "Sim std: 462660999\n",
      "Sim pre: 199\n"
     ]
    }
   ],
   "source": [
    "print(\"Repeat std:\", repeat_rand(25000, \"std\"))\n",
    "print(\"Repeat pre:\", repeat_rand(25000, \"pre\"))\n",
    "print(\"Hill std:\", hill_climb(25000, \"std\"))\n",
    "print(\"Hill pre:\", hill_climb(25000, \"pre\"))\n",
    "print(\"Sim std:\", sim_ann(25000, \"std\"))\n",
    "print(\"Sim pre:\", sim_ann(25000, \"pre\"))"
   ]
  }
 ],
 "metadata": {
  "kernelspec": {
   "display_name": "Python 3",
   "language": "python",
   "name": "python3"
  },
  "language_info": {
   "codemirror_mode": {
    "name": "ipython",
    "version": 3
   },
   "file_extension": ".py",
   "mimetype": "text/x-python",
   "name": "python",
   "nbconvert_exporter": "python",
   "pygments_lexer": "ipython3",
   "version": "3.5.1"
  }
 },
 "nbformat": 4,
 "nbformat_minor": 0
}
